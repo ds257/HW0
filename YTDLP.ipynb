{
  "nbformat": 4,
  "nbformat_minor": 0,
  "metadata": {
    "colab": {
      "provenance": [],
      "authorship_tag": "ABX9TyNv9qb/qgvLTb5yGLPAtx1c",
      "include_colab_link": true
    },
    "kernelspec": {
      "name": "python3",
      "display_name": "Python 3"
    },
    "language_info": {
      "name": "python"
    }
  },
  "cells": [
    {
      "cell_type": "markdown",
      "metadata": {
        "id": "view-in-github",
        "colab_type": "text"
      },
      "source": [
        "<a href=\"https://colab.research.google.com/github/ds257/youtubecommentscraper/blob/main/YTDLP.ipynb\" target=\"_parent\"><img src=\"https://colab.research.google.com/assets/colab-badge.svg\" alt=\"Open In Colab\"/></a>"
      ]
    },
    {
      "cell_type": "code",
      "execution_count": 1,
      "metadata": {
        "colab": {
          "base_uri": "https://localhost:8080/"
        },
        "id": "guSdhx0fSVBs",
        "outputId": "9f43b298-b05d-4f8e-c5c2-8c262b7a7953"
      },
      "outputs": [
        {
          "output_type": "stream",
          "name": "stdout",
          "text": [
            "Collecting yt-dlp\n",
            "  Downloading yt_dlp-2024.11.4-py3-none-any.whl.metadata (172 kB)\n",
            "\u001b[?25l     \u001b[90m━━━━━━━━━━━━━━━━━━━━━━━━━━━━━━━━━━━━━━━━\u001b[0m \u001b[32m0.0/172.1 kB\u001b[0m \u001b[31m?\u001b[0m eta \u001b[36m-:--:--\u001b[0m\r\u001b[2K     \u001b[91m━━━━━━━━━━━━━━━━━━━━━━━━━━━━━━━━━━━━━━\u001b[0m\u001b[90m╺\u001b[0m\u001b[90m━\u001b[0m \u001b[32m163.8/172.1 kB\u001b[0m \u001b[31m17.2 MB/s\u001b[0m eta \u001b[36m0:00:01\u001b[0m\r\u001b[2K     \u001b[90m━━━━━━━━━━━━━━━━━━━━━━━━━━━━━━━━━━━━━━━━\u001b[0m \u001b[32m172.1/172.1 kB\u001b[0m \u001b[31m3.4 MB/s\u001b[0m eta \u001b[36m0:00:00\u001b[0m\n",
            "\u001b[?25hDownloading yt_dlp-2024.11.4-py3-none-any.whl (3.2 MB)\n",
            "\u001b[2K   \u001b[90m━━━━━━━━━━━━━━━━━━━━━━━━━━━━━━━━━━━━━━━━\u001b[0m \u001b[32m3.2/3.2 MB\u001b[0m \u001b[31m19.7 MB/s\u001b[0m eta \u001b[36m0:00:00\u001b[0m\n",
            "\u001b[?25hInstalling collected packages: yt-dlp\n",
            "Successfully installed yt-dlp-2024.11.4\n"
          ]
        }
      ],
      "source": [
        "!pip install yt-dlp\n"
      ]
    },
    {
      "cell_type": "code",
      "source": [
        "import yt_dlp\n",
        "import pandas as pd\n",
        "\n",
        "def get_all_comments(video_url):\n",
        "    ydl_opts = {\n",
        "        'quiet': True,\n",
        "        'extractor-args': {\n",
        "            'youtube': {\n",
        "                'max-comments': 1000  # Try increasing this to get more comments\n",
        "            }\n",
        "        }\n",
        "    }\n",
        "\n",
        "    comments = []\n",
        "\n",
        "    with yt_dlp.YoutubeDL(ydl_opts) as ydl:\n",
        "        try:\n",
        "            # Extract video information including comments\n",
        "            info = ydl.extract_info(video_url, download=False)\n",
        "            if 'comments' in info:\n",
        "                for comment in info['comments']:\n",
        "                    comments.append([\n",
        "                        comment.get('author', ''),\n",
        "                        comment.get('id', ''),\n",
        "                        comment.get('text', ''),\n",
        "                        comment.get('timestamp', ''),\n",
        "                        comment.get('like_count', 0)\n",
        "                    ])\n",
        "            else:\n",
        "                print(\"No comments found in the extracted info.\")\n",
        "\n",
        "        except Exception as e:\n",
        "            print(f\"An error occurred: {e}\")\n",
        "\n",
        "    # Convert the comments to a DataFrame\n",
        "    df = pd.DataFrame(comments, columns=['author', 'comment_id', 'text', 'timestamp', 'like_count'])\n",
        "    return df\n",
        "\n",
        "\n",
        "video_url = \"https://www.youtube.com/watch?v=sdLf4jT_92E\"\n",
        "df_comments = get_all_comments(video_url)\n",
        "\n",
        "print(df_comments)\n",
        "\n",
        "# Display comments if any were retrieved\n",
        "if not df_comments.empty:\n",
        "    for index, row in df_comments.iterrows():\n",
        "        print(f\"Author: {row['author']}\")\n",
        "        print(f\"Comment: {row['text']}\")\n",
        "        print(f\"Timestamp: {row['timestamp']}\")\n",
        "        print(f\"Likes: {row['like_count']}\\n\")\n",
        "else:\n",
        "    print(\"No comments retrieved.\")\n"
      ],
      "metadata": {
        "colab": {
          "base_uri": "https://localhost:8080/"
        },
        "id": "8aw5e-uzTWy-",
        "outputId": "4ca1c2d4-60bc-4af2-efda-f362e17adf5c"
      },
      "execution_count": 7,
      "outputs": [
        {
          "output_type": "stream",
          "name": "stdout",
          "text": [
            "No comments found in the extracted info.\n",
            "Empty DataFrame\n",
            "Columns: [author, comment_id, text, timestamp, like_count]\n",
            "Index: []\n",
            "No comments retrieved.\n"
          ]
        }
      ]
    }
  ]
}